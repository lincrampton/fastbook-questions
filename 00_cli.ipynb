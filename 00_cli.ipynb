{
 "cells": [
  {
   "cell_type": "code",
   "execution_count": 4,
   "metadata": {},
   "outputs": [],
   "source": [
    "#default_exp cli"
   ]
  },
  {
   "cell_type": "code",
   "execution_count": 5,
   "metadata": {},
   "outputs": [],
   "source": [
    "# export\n",
    "import glob, re, os\n",
    "import nbformat as nbf\n",
    "from pathlib import Path\n",
    "from fastscript import call_parse,Param\n",
    "\n",
    "NB_VERSION=4"
   ]
  },
  {
   "cell_type": "code",
   "execution_count": 6,
   "metadata": {},
   "outputs": [],
   "source": [
    "# export\n",
    "@call_parse\n",
    "def extract(path:Param(\"Path to book notebooks (default is current directory)\", str)=None,\n",
    "            save_path:Param(\"Path for saving output (default is current directory)\", str)=None):\n",
    "    \n",
    "    if (path == None): path=Path('.')\n",
    "    if type(path) == str: path=Path(path)\n",
    "    \n",
    "    if (os.path.isdir(path)): \n",
    "        nb_files = [Path(p) for p in glob.glob(str(path/\"*.ipynb\"))]\n",
    "    elif os.path.isfile(path):  \n",
    "        nb_files = [path]\n",
    "    else:  \n",
    "        print(\"Unkown path object\" )\n",
    "    \n",
    "    if save_path == None: save_path = Path('.')\n",
    "    if type(save_path) == str: save_path = Path(save_path)\n",
    "    save_path.mkdir(parents=True, exist_ok=True)\n",
    "     \n",
    "\n",
    "    for nb in nb_files:\n",
    "        print(f\"Extracting {nb}.\")\n",
    "        with open(nb,'r') as f: onb = nbf.read(f,NB_VERSION)\n",
    "       \n",
    "        # Assumption that the notebook title is the contents of the first markdown cell\n",
    "        title_index = [i for i, a in enumerate(onb['cells']) if (a['cell_type']=='markdown')]\n",
    "        if len(title_index) == 0:\n",
    "            nb_title = nb.name\n",
    "        else:\n",
    "            nb_title = onb['cells'][title_index[0]]['source']\n",
    "\n",
    "        # extract the questions\n",
    "        qheader_index = [i for i, a in enumerate(onb['cells']) if (a['cell_type']=='markdown') and (a['source']=='## Questionnaire')]\n",
    "        if len(qheader_index) == 0:\n",
    "            print(f\"    Error: couldn't find Questionnaire heading, skipping.\")\n",
    "            continue\n",
    "        \n",
    "        # chapter 1 has an extra paragraph introducing the questionnaires\n",
    "        offset=1\n",
    "        while onb['cells'][qheader_index[0]+offset].source[0] != '1':\n",
    "            offset+=1\n",
    "            \n",
    "        # split on question numbers\n",
    "        questions = re.split(r'\\n[\\d]+\\.',onb['cells'][qheader_index[0]+offset].source)\n",
    "        \n",
    "        questions = [f'{i+1}. {q}' for i,q in enumerate(questions)]\n",
    "\n",
    "        # create new notebook, inserting title then [question, blank markdown] for all questions.\n",
    "        output_nb = nbf.v4.new_notebook()\n",
    "        questions = [nbf.v4.new_markdown_cell(q) for q in questions]\n",
    "        blanks = [nbf.v4.new_markdown_cell('')]*len(questions)\n",
    "        output_nb['cells'] = [nbf.v4.new_markdown_cell(f'{nb_title}: Questionaire')]+[j for i in zip(questions,blanks) for j in i]\n",
    "\n",
    "        # save to output path\n",
    "        output_nb.metadata.authors=[{\"name\":\"Jeremy Howard\"},{\"name\":\"Sylvain Gugger\"}]\n",
    "        output_nb.metadata.kernelspec = onb.metadata.kernelspec\n",
    "        nbf.write(output_nb, save_path / nb.name.replace('.ipynb','_Q.ipynb'))\n",
    "\n"
   ]
  },
  {
   "cell_type": "code",
   "execution_count": 1,
   "metadata": {},
   "outputs": [
    {
     "name": "stdout",
     "output_type": "stream",
     "text": [
      "Converted 00_cli.ipynb.\n",
      "Converted index.ipynb.\n"
     ]
    }
   ],
   "source": [
    "#hide\n",
    "from nbdev.export import *\n",
    "notebook2script()"
   ]
  },
  {
   "cell_type": "code",
   "execution_count": null,
   "metadata": {},
   "outputs": [],
   "source": []
  }
 ],
 "metadata": {
  "kernelspec": {
   "display_name": "Python 3",
   "language": "python",
   "name": "python3"
  },
  "language_info": {
   "codemirror_mode": {
    "name": "ipython",
    "version": 3
   },
   "file_extension": ".py",
   "mimetype": "text/x-python",
   "name": "python",
   "nbconvert_exporter": "python",
   "pygments_lexer": "ipython3",
   "version": "3.8.1"
  }
 },
 "nbformat": 4,
 "nbformat_minor": 4
}
