{
 "cells": [
  {
   "cell_type": "code",
   "execution_count": null,
   "metadata": {},
   "outputs": [],
   "source": [
    "#hide\n",
    "from fastbook_questions.core import *"
   ]
  },
  {
   "cell_type": "markdown",
   "metadata": {},
   "source": [
    "# fastbook-questions\n",
    "\n",
    "> A tiny script to extract the end-of-chapter fastbook questions to their own notebooks."
   ]
  },
  {
   "cell_type": "markdown",
   "metadata": {},
   "source": [
    "This script extracts the end of chapter questionnaires from each of the chapter notebooks and puts them into their own notebooks with additional markdown cells where answers can be written. Also nothing stopping you importing and creating code cells as part of your answers.\n",
    "\n",
    "My suggestion is you clone the [fastbook repo](https://github.com/fastai/fastbook) and run the script there to make your own copy for private use. \n",
    "\n",
    "The questions clearly remain copyright of Jeremy Howard and Sylvain Gugger. Please remember that the fastbook text (including all markdown cells in the notebooks and other prose) is not licensed for any redistribution or change of format or medium, other than making copies of the notebooks or forking this repo for your own private use. No commercial or broadcast use is allowed. \n",
    "\n",
    "This script was produced using [nbdev](https://github.com/fastai/nbdev)."
   ]
  },
  {
   "cell_type": "markdown",
   "metadata": {},
   "source": [
    "## Install"
   ]
  },
  {
   "cell_type": "markdown",
   "metadata": {},
   "source": [
    "```\n",
    "pip install fastbook_questions\n",
    "```"
   ]
  },
  {
   "cell_type": "markdown",
   "metadata": {},
   "source": [
    "## How to use"
   ]
  },
  {
   "cell_type": "markdown",
   "metadata": {},
   "source": [
    "Call `fastbook_extract` from the command line to extract all the questions to their own notebooks with cells for your answers.\n",
    "\n",
    "With no arguments it will look for the fastbook chapters and produce outputs in the current directory."
   ]
  },
  {
   "cell_type": "markdown",
   "metadata": {},
   "source": [
    "### Optional Arguments"
   ]
  },
  {
   "cell_type": "markdown",
   "metadata": {},
   "source": [
    "Use arguments to control where to look for inputs and put the outputs.\n",
    "\n",
    "```\n",
    "usage: fastbook_extract [-h] [--path PATH] [--save_path SAVE_PATH]\n",
    "                        [--xtra XTRA]\n",
    "\n",
    "optional arguments:\n",
    "  -h, --help            show this help message and exit\n",
    "  --path PATH           Path to book notebooks (default is current directory)\n",
    "                        (default: None)\n",
    "  --save_path SAVE_PATH\n",
    "                        Path for saving output (default is current directory)\n",
    "                        (default: None)\n",
    "```\n",
    "\n",
    "For example:\n",
    "    \n",
    "```\n",
    "    fastbook_extract --path ~/fastbook --save_path ./fbq \n",
    "```\n",
    "\n",
    "Will look for the fastbook chapters in ~/fastbook and save the output to a directory called fbq (which will be created if it doesn't exist).\n"
   ]
  },
  {
   "cell_type": "code",
   "execution_count": 2,
   "metadata": {},
   "outputs": [
    {
     "name": "stdout",
     "output_type": "stream",
     "text": [
      "Converted 00_cli.ipynb.\n",
      "Converted index.ipynb.\n"
     ]
    }
   ],
   "source": [
    "#hide\n",
    "from nbdev.export import *\n",
    "notebook2script()"
   ]
  },
  {
   "cell_type": "code",
   "execution_count": null,
   "metadata": {},
   "outputs": [],
   "source": []
  }
 ],
 "metadata": {
  "kernelspec": {
   "display_name": "Python 3",
   "language": "python",
   "name": "python3"
  },
  "language_info": {
   "codemirror_mode": {
    "name": "ipython",
    "version": 3
   },
   "file_extension": ".py",
   "mimetype": "text/x-python",
   "name": "python",
   "nbconvert_exporter": "python",
   "pygments_lexer": "ipython3",
   "version": "3.8.1"
  }
 },
 "nbformat": 4,
 "nbformat_minor": 4
}
